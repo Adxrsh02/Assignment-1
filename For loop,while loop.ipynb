{
 "cells": [
  {
   "cell_type": "code",
   "execution_count": null,
   "id": "06f6a5e8-ff19-4300-87ab-4840d3459a5a",
   "metadata": {},
   "outputs": [],
   "source": [
    "##Assignment 1"
   ]
  },
  {
   "cell_type": "code",
   "execution_count": 4,
   "id": "8b2ccdbe-63d7-45a2-b133-0219ead3a550",
   "metadata": {},
   "outputs": [
    {
     "name": "stdout",
     "output_type": "stream",
     "text": [
      "1\n",
      "2\n",
      "3\n",
      "4\n",
      "5\n"
     ]
    }
   ],
   "source": [
    "##Q. Explain with an example each when to use a for loop and a while loop.\n",
    "\n",
    "##1)For Loop\n",
    "# Print numbers from 1 to 5 using a for loop\n",
    "for i in range(1, 6):\n",
    "    print(i)\n",
    "\n",
    "\n"
   ]
  },
  {
   "cell_type": "code",
   "execution_count": 5,
   "id": "b96f8630-c0c4-48f4-a438-ef5af97021f4",
   "metadata": {},
   "outputs": [
    {
     "name": "stdout",
     "output_type": "stream",
     "text": [
      "1\n",
      "2\n",
      "3\n",
      "4\n",
      "5\n"
     ]
    }
   ],
   "source": [
    "##2)While Loop\n",
    "# Print numbers from 1 to 5 using a while loop\n",
    "i = 1\n",
    "while i <= 5:\n",
    "    print(i)\n",
    "    i += 1"
   ]
  },
  {
   "cell_type": "code",
   "execution_count": 7,
   "id": "f08281b1-79dc-4f2a-b317-2738080c5d48",
   "metadata": {},
   "outputs": [
    {
     "name": "stdout",
     "output_type": "stream",
     "text": [
      "Using for loop:\n",
      "Sum of the first 10 natural numbers: 55\n",
      "Product of the first 10 natural numbers: 3628800\n"
     ]
    }
   ],
   "source": [
    "##Q2. Write a python program to print the sum and product of the first 10 natural numbers using for and while loop\n",
    "\n",
    "# Using a for loop to calculate sum and product\n",
    "sum_for = 0\n",
    "product_for = 1\n",
    "\n",
    "# Calculate sum and product using for loop\n",
    "for i in range(1, 11):\n",
    "    sum_for += i\n",
    "    product_for *= i\n",
    "\n",
    "print(\"Using for loop:\")\n",
    "print(\"Sum of the first 10 natural numbers:\", sum_for)\n",
    "print(\"Product of the first 10 natural numbers:\", product_for)\n"
   ]
  },
  {
   "cell_type": "code",
   "execution_count": 8,
   "id": "939409fb-2dca-4a53-b35e-4e08029733a1",
   "metadata": {},
   "outputs": [
    {
     "name": "stdout",
     "output_type": "stream",
     "text": [
      "\n",
      "Using while loop:\n",
      "Sum of the first 10 natural numbers: 55\n",
      "Product of the first 10 natural numbers: 3628800\n"
     ]
    }
   ],
   "source": [
    "# Using a while loop to calculate sum and product\n",
    "sum_while = 0\n",
    "product_while = 1\n",
    "i = 1\n",
    "\n",
    "# Calculate sum and product using while loop\n",
    "while i <= 10:\n",
    "    sum_while += i\n",
    "    product_while *= i\n",
    "    i += 1\n",
    "\n",
    "print(\"\\nUsing while loop:\")\n",
    "print(\"Sum of the first 10 natural numbers:\", sum_while)\n",
    "print(\"Product of the first 10 natural numbers:\", product_while)\n"
   ]
  },
  {
   "cell_type": "code",
   "execution_count": 9,
   "id": "5edc8acd-caab-4cda-a610-ae456a2d1c47",
   "metadata": {},
   "outputs": [
    {
     "name": "stdin",
     "output_type": "stream",
     "text": [
      "Enter the number of units consumed:  98\n"
     ]
    },
    {
     "name": "stdout",
     "output_type": "stream",
     "text": [
      "Electricity bill for the household: 441.0 rupees\n"
     ]
    }
   ],
   "source": [
    "##Q3. Create a python program to compute the electricity bill for a household.\n",
    "def calculate_electricity_bill(units):\n",
    "    total_bill = 0\n",
    "\n",
    "    # Charges for the first 100 units\n",
    "    if units <= 100:\n",
    "        total_bill = units * 4.5\n",
    "    else:\n",
    "        total_bill += 100 * 4.5\n",
    "        units -= 100\n",
    "\n",
    "        # Charges for the next 100 units\n",
    "        if units <= 100:\n",
    "            total_bill += units * 6\n",
    "        else:\n",
    "            total_bill += 100 * 6\n",
    "            units -= 100\n",
    "\n",
    "            # Charges for the next 100 units\n",
    "            if units <= 100:\n",
    "                total_bill += units * 10\n",
    "            else:\n",
    "                total_bill += 100 * 10\n",
    "                units -= 100\n",
    "\n",
    "                # Charges for units above 300\n",
    "                total_bill += units * 20\n",
    "\n",
    "    return total_bill\n",
    "\n",
    "# Example usage\n",
    "units_consumed = int(input(\"Enter the number of units consumed: \"))\n",
    "electricity_bill = calculate_electricity_bill(units_consumed)\n",
    "print(\"Electricity bill for the household:\", electricity_bill, \"rupees\")\n"
   ]
  },
  {
   "cell_type": "code",
   "execution_count": 10,
   "id": "00ecc697-5339-4db7-8e87-c37259e2d280",
   "metadata": {},
   "outputs": [
    {
     "name": "stdout",
     "output_type": "stream",
     "text": [
      "Numbers whose cube is divisible by 4 or 5: [2, 4, 5, 6, 8, 10, 12, 14, 15, 16, 18, 20, 22, 24, 25, 26, 28, 30, 32, 34, 35, 36, 38, 40, 42, 44, 45, 46, 48, 50, 52, 54, 55, 56, 58, 60, 62, 64, 65, 66, 68, 70, 72, 74, 75, 76, 78, 80, 82, 84, 85, 86, 88, 90, 92, 94, 95, 96, 98, 100]\n"
     ]
    }
   ],
   "source": [
    "##Q4. Create a list of numbers from 1 to 100. Use for loop and while loop to calculate the cube of each\n",
    "##number and if the cube of that number is divisible by 4 or 5 then append that number in a list and print\n",
    "##that list.\n",
    "\n",
    "# Using for loop to calculate cube and append numbers\n",
    "cubes_divisible = []\n",
    "\n",
    "for num in range(1, 101):\n",
    "    cube = num ** 3\n",
    "    if cube % 4 == 0 or cube % 5 == 0:\n",
    "        cubes_divisible.append(num)\n",
    "\n",
    "print(\"Numbers whose cube is divisible by 4 or 5:\", cubes_divisible)\n"
   ]
  },
  {
   "cell_type": "code",
   "execution_count": 11,
   "id": "9b469faa-cc2c-408c-9e22-2e9c3f645e1e",
   "metadata": {},
   "outputs": [
    {
     "name": "stdout",
     "output_type": "stream",
     "text": [
      "Numbers whose cube is divisible by 4 or 5: [2, 4, 5, 6, 8, 10, 12, 14, 15, 16, 18, 20, 22, 24, 25, 26, 28, 30, 32, 34, 35, 36, 38, 40, 42, 44, 45, 46, 48, 50, 52, 54, 55, 56, 58, 60, 62, 64, 65, 66, 68, 70, 72, 74, 75, 76, 78, 80, 82, 84, 85, 86, 88, 90, 92, 94, 95, 96, 98, 100]\n"
     ]
    }
   ],
   "source": [
    "# Using while loop to calculate cube and append numbers\n",
    "cubes_divisible = []\n",
    "num = 1\n",
    "\n",
    "while num <= 100:\n",
    "    cube = num ** 3\n",
    "    if cube % 4 == 0 or cube % 5 == 0:\n",
    "        cubes_divisible.append(num)\n",
    "    num += 1\n",
    "\n",
    "print(\"Numbers whose cube is divisible by 4 or 5:\", cubes_divisible)\n"
   ]
  },
  {
   "cell_type": "code",
   "execution_count": 12,
   "id": "1700efcc-156c-4b0c-94be-b07a3ff516c9",
   "metadata": {},
   "outputs": [
    {
     "name": "stdout",
     "output_type": "stream",
     "text": [
      "Number of vowels: 12\n"
     ]
    }
   ],
   "source": [
    "#Q5. Write a program to filter count vowels in the below-given string.\n",
    "#string = \"I want to become a data scientist\"\n",
    "\n",
    "def count_vowels(string):\n",
    "    vowels = \"aeiouAEIOU\"\n",
    "    count = 0\n",
    "    for char in string:\n",
    "        if char in vowels:\n",
    "            count += 1\n",
    "    return count\n",
    "\n",
    "# Given string\n",
    "string = \"I want to become a data scientist\"\n",
    "\n",
    "# Count vowels\n",
    "vowel_count = count_vowels(string)\n",
    "print(\"Number of vowels:\", vowel_count)\n"
   ]
  },
  {
   "cell_type": "code",
   "execution_count": null,
   "id": "f7b6cf64-f4d0-4324-87aa-b95970542d6e",
   "metadata": {},
   "outputs": [],
   "source": []
  }
 ],
 "metadata": {
  "kernelspec": {
   "display_name": "Python 3 (ipykernel)",
   "language": "python",
   "name": "python3"
  },
  "language_info": {
   "codemirror_mode": {
    "name": "ipython",
    "version": 3
   },
   "file_extension": ".py",
   "mimetype": "text/x-python",
   "name": "python",
   "nbconvert_exporter": "python",
   "pygments_lexer": "ipython3",
   "version": "3.10.8"
  }
 },
 "nbformat": 4,
 "nbformat_minor": 5
}
